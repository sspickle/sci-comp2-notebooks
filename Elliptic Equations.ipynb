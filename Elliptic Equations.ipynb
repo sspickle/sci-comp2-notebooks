{
 "cells": [
  {
   "cell_type": "code",
   "execution_count": 58,
   "metadata": {},
   "outputs": [],
   "source": [
    "import matplotlib.pyplot as plt\n",
    "import numpy as np\n",
    "import time"
   ]
  },
  {
   "cell_type": "markdown",
   "metadata": {},
   "source": [
    "# Elliptic Equations\n",
    "\n",
    "Let  The boundary conditions be:\n",
    "\n",
    "$$ V(x,0) = 1.0V; 0 < x < L $$\n",
    "\n",
    "![BCs](BCsLaplace.png)\n",
    "\n",
    "$$ V(0,y) = 0; V(L, y) = 0; V(x, L) = 0 $$\n",
    "\n",
    "$$ \\frac{\\partial ^2 V(x,y)}{\\partial x^2} + \\frac{\\partial ^2 V(x,y)}{\\partial y^2}  = 0$$\n",
    "\n",
    "$$ V(x,y) = X(x) Y(y) $$\n",
    "\n",
    "$$ Y(y) X''(x) + X(x) Y''(x) = 0 $$\n",
    "\n",
    "$$ \\frac{Y(y) X''(x)}{X(x) Y(y)} +\\frac{X(x) Y''(y)}{X(x) Y(y)} = 0 $$\n",
    "\n",
    "$$ \\frac{X''(x)}{X(x)} +\\frac{Y''(y)}{Y(y)} = 0 $$\n",
    "\n",
    "\n",
    "$$ \\frac{X''(x)}{X(x)} = -\\frac{Y''(y)}{Y(y)} = - \\lambda $$\n",
    "\n",
    "$$ \\frac{d^2 X(x)}{d x^2} = -\\lambda $$\n",
    "\n",
    "$$ \\frac{d^2 Y(y)}{d y^2} = \\lambda $$\n",
    "\n",
    "$$ X(x) = A \\sin(k x) $$\n",
    "\n",
    "$$ X''(x) = - k^2 A \\sin(k x) = -k^2 X(x), \\lambda = k^2 $$\n",
    "\n",
    "$$ Y(y) = C e^{-k^2 y} + D e^{+k^2 y} $$\n",
    "\n",
    "$$ k_n = \\frac{n \\pi}{L} $$\n",
    "\n",
    "$$ V_n(x,y) = A_n \\sqrt{\\frac{2}{L}}\\sin(\\frac{n \\pi x}{L}) \\left( C_n e^{-(\\frac{n \\pi}{L})^2 y} + D_n e^{+(\\frac{n \\pi}{L})^2 y}\\right)$$\n",
    "\n",
    "$$ V_n(x,y) =\\sum_{n=1}^{\\infty} A_n \\sqrt{\\frac{2}{L}}\\sin(\\frac{n \\pi x}{L}) \\left( C_n e^{-(\\frac{n \\pi}{L})^2 y} + D_n e^{+(\\frac{n \\pi}{L})^2 y}\\right) $$\n",
    "\n",
    "\n",
    "$$ V(x, y) = \\sum_{n=1}^{\\infty} A_n \\sqrt{\\frac{2}{L}}\\sin(\\frac{n \\pi x}{L}) \\left( C_n e^{-(\\frac{n \\pi}{L})^2 y} + D_n e^{+(\\frac{n \\pi}{L})^2 y}\\right) $$\n",
    "\n",
    "$$ |n\\rangle = \\sqrt{\\frac{2}{L}}\\sin(\\frac{n \\pi x}{L}) $$\n",
    "\n",
    "$$ |m\\rangle = \\sqrt{\\frac{2}{L}}\\sin(\\frac{m \\pi x}{L}) $$\n",
    "\n",
    "$$ \\langle m | n \\rangle = \\delta_{nm} $$\n",
    "\n",
    "\n",
    "When y==0\n",
    "\n",
    "$$ V(x,0) = \\sum_{n=1}^{\\infty} A_n \\sqrt{\\frac{2}{L}}\\sin(\\frac{n \\pi x}{L})( C_n + D_n ) $$\n",
    "\n",
    "Make $C_n + D_n == 1$ and $\\left( C_n e^{-(\\frac{n \\pi}{L})^2 L} + D_n e^{+(\\frac{n \\pi}{L})^2 L}\\right) = 0$.\n",
    "\n",
    "$$ V(x, 0) = \\sum_{n=1}^{\\infty} A_n \\sqrt{\\frac{2}{L}}\\sin(\\frac{n \\pi x}{L}) = \\sum_{n=1}^\\infty A_n |n\\rangle$$"
   ]
  },
  {
   "cell_type": "markdown",
   "metadata": {},
   "source": [
    "$$\\langle m |V\\rangle = \\sum_{n=1}^\\infty A_n\\langle m |n\\rangle$$\n",
    "\n",
    "$$A_m = \\langle m |V\\rangle $$"
   ]
  },
  {
   "cell_type": "code",
   "execution_count": 64,
   "metadata": {},
   "outputs": [],
   "source": [
    "def initPotential(N=100):\n",
    "    V = np.zeros((2,N,N))\n",
    "\n",
    "    V[0,0] = np.ones(N)\n",
    "    V[1,0] = np.ones(N)\n",
    "\n",
    "    dst = 1\n",
    "    src = 0\n",
    "    \n",
    "    return V, dst, src"
   ]
  },
  {
   "cell_type": "markdown",
   "metadata": {},
   "source": [
    "![sub matrices](SliceSubMatrices.png)"
   ]
  },
  {
   "cell_type": "code",
   "execution_count": 78,
   "metadata": {},
   "outputs": [],
   "source": [
    "def calcError(V):\n",
    "    return np.sqrt(((V[1] - V[0])**2).sum()/(N**2))\n",
    "\n",
    "\n",
    "def doCalculation(V, dst, src, minError = 1e-6):\n",
    "    error = 1\n",
    "    count = 0\n",
    "    while error > minError:\n",
    "        mat1 = V[src, :-2, 1:-1]  # purple\n",
    "        mat2 = V[src, 2:, 1:-1]   # yellow\n",
    "        mat3 = V[src, 1:-1, :-2]  # red\n",
    "        mat4 = V[src, 1:-1, 2:]   # blue\n",
    "        V[dst,1:-1,1:-1] = (mat1 + mat2 + mat3 + mat4)/4\n",
    "        dst = 1 - dst\n",
    "        src = 1 - src\n",
    "        error = calcError(V)\n",
    "        count += 1\n",
    "        if (count % 1000) == 0:\n",
    "            print(\"Counting..\", count, \"error: \", error)\n",
    "            \n",
    "    return count, error, V\n"
   ]
  },
  {
   "cell_type": "code",
   "execution_count": 79,
   "metadata": {},
   "outputs": [
    {
     "name": "stdout",
     "output_type": "stream",
     "text": [
      "83.4 ms ± 5.75 ms per loop (mean ± std. dev. of 7 runs, 10 loops each)\n"
     ]
    }
   ],
   "source": [
    "def doBoth(N=100):\n",
    "    V, dst, src = initPotential(100)\n",
    "    count, error, V = doCalculation(V, dst, src, minError=1e-4)\n",
    "    \n",
    "%timeit doBoth()"
   ]
  },
  {
   "cell_type": "code",
   "execution_count": 83,
   "metadata": {},
   "outputs": [
    {
     "name": "stdout",
     "output_type": "stream",
     "text": [
      "1\n"
     ]
    }
   ],
   "source": [
    "count, error, V = doCalculation(V, dst, src, minError=1e-4)\n",
    "print(count)"
   ]
  },
  {
   "cell_type": "code",
   "execution_count": 53,
   "metadata": {},
   "outputs": [
    {
     "data": {
      "text/plain": [
       "<matplotlib.contour.QuadContourSet at 0x7fdd6cdf2b50>"
      ]
     },
     "execution_count": 53,
     "metadata": {},
     "output_type": "execute_result"
    },
    {
     "data": {
      "image/png": "[encoded data removed]",
      "text/plain": [
       "<Figure size 432x288 with 1 Axes>"
      ]
     },
     "metadata": {
      "needs_background": "light"
     },
     "output_type": "display_data"
    }
   ],
   "source": [
    "plt.contourf(V[1],100)"
   ]
  },
  {
   "cell_type": "code",
   "execution_count": 94,
   "metadata": {},
   "outputs": [
    {
     "data": {
      "text/plain": [
       "<matplotlib.contour.QuadContourSet at 0x7fdd6ed4f3a0>"
      ]
     },
     "execution_count": 94,
     "metadata": {},
     "output_type": "execute_result"
    },
    {
     "data": {
      "image/png": "[encoded data removed]",
      "text/plain": [
       "<Figure size 432x288 with 1 Axes>"
      ]
     },
     "metadata": {
      "needs_background": "light"
     },
     "output_type": "display_data"
    }
   ],
   "source": [
    "x = np.linspace(0,5,100)\n",
    "y = np.linspace(0,5,100)\n",
    "\n",
    "X, Y = np.meshgrid(x, y)\n",
    "\n",
    "r = np.sqrt(X**2 + Y**2)\n",
    "theta = np.arctan2(Y,X)\n",
    "\n",
    "plt.contourf(X, Y, (r**2*np.sin(theta)))"
   ]
  },
  {
   "cell_type": "code",
   "execution_count": 89,
   "metadata": {},
   "outputs": [
    {
     "data": {
      "text/plain": [
       "array([[0.  , 1.25, 2.5 , 3.75, 5.  ],\n",
       "       [0.  , 1.25, 2.5 , 3.75, 5.  ],\n",
       "       [0.  , 1.25, 2.5 , 3.75, 5.  ],\n",
       "       [0.  , 1.25, 2.5 , 3.75, 5.  ],\n",
       "       [0.  , 1.25, 2.5 , 3.75, 5.  ]])"
      ]
     },
     "execution_count": 89,
     "metadata": {},
     "output_type": "execute_result"
    }
   ],
   "source": [
    "np.arctan2"
   ]
  },
  {
   "cell_type": "code",
   "execution_count": 90,
   "metadata": {},
   "outputs": [
    {
     "data": {
      "text/plain": [
       "array([[0.  , 0.  , 0.  , 0.  , 0.  ],\n",
       "       [1.25, 1.25, 1.25, 1.25, 1.25],\n",
       "       [2.5 , 2.5 , 2.5 , 2.5 , 2.5 ],\n",
       "       [3.75, 3.75, 3.75, 3.75, 3.75],\n",
       "       [5.  , 5.  , 5.  , 5.  , 5.  ]])"
      ]
     },
     "execution_count": 90,
     "metadata": {},
     "output_type": "execute_result"
    }
   ],
   "source": [
    "Y"
   ]
  },
  {
   "cell_type": "code",
   "execution_count": null,
   "metadata": {},
   "outputs": [],
   "source": []
  }
 ],
 "metadata": {
  "kernelspec": {
   "display_name": "Python 3",
   "language": "python",
   "name": "python3"
  },
  "language_info": {
   "codemirror_mode": {
    "name": "ipython",
    "version": 3
   },
   "file_extension": ".py",
   "mimetype": "text/x-python",
   "name": "python",
   "nbconvert_exporter": "python",
   "pygments_lexer": "ipython3",
   "version": "3.8.3"
  }
 },
 "nbformat": 4,
 "nbformat_minor": 4
}
