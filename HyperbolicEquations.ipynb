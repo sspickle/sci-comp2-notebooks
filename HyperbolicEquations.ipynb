{
 "cells": [
  {
   "cell_type": "markdown",
   "metadata": {},
   "source": [
    "# Hyperbolic Equations\n",
    "\n",
    "A typical hyperbolic equation is the wave equation. A typcical hyperbolic equation might look like this:\n",
    "\n",
    "$$ c^2 \\frac{\\partial^2 y}{\\partial x^2} = \\frac{\\partial ^2 y}{\\partial t^2} $$\n",
    "\n",
    "Where $c$ is the speed at which disturbances in $y$ propagate. Note the units! Suppose $y$ has units of distance, and $t$ has units of time. Since $c$ is a *speed*, it would have units of distance/time. Now the partial derivative on the left hand side (LHS) has units of recirpocal distance. The partial dirivative on the right has units of distance over time squared. Multiplying the LHS by $c^2$ sorts out the units so they're consistent."
   ]
  },
  {
   "cell_type": "code",
   "execution_count": 2,
   "metadata": {},
   "outputs": [],
   "source": [
    "import numpy as np\n",
    "import matplotlib.pyplot as plt"
   ]
  },
  {
   "cell_type": "markdown",
   "metadata": {},
   "source": [
    "## String Waves\n",
    "\n",
    "A simple example is a wave on a string. In this case a string is tied between two points. Suppose we give it an initial \"pluck\" so it has a shape something like this:"
   ]
  },
  {
   "cell_type": "code",
   "execution_count": 24,
   "metadata": {},
   "outputs": [
    {
     "data": {
      "text/plain": [
       "(-0.15, 0.15)"
      ]
     },
     "execution_count": 24,
     "metadata": {},
     "output_type": "execute_result"
    },
    {
     "data": {
      "image/png": "[encoded data removed]",
      "text/plain": [
       "<Figure size 432x288 with 1 Axes>"
      ]
     },
     "metadata": {
      "needs_background": "light"
     },
     "output_type": "display_data"
    }
   ],
   "source": [
    "\n",
    "x = np.linspace(0,L,N)\n",
    "\n",
    "dx = x[1] - x[0] # what is dx?\n",
    "y = np.where(x<L/2, x*2*A/L, (L-x)*2*A/L)\n",
    "\n",
    "fig1, ax1 = plt.subplots()\n",
    "ax1.plot(x,y,'r-')\n",
    "ax1.grid()\n",
    "ax1.set_aspect('equal')\n",
    "plt.ylim(-.15,0.15)\n"
   ]
  },
  {
   "cell_type": "markdown",
   "metadata": {},
   "source": [
    "The goal of this project is to simulate the time evolution of the plucked string."
   ]
  },
  {
   "cell_type": "code",
   "execution_count": 89,
   "metadata": {},
   "outputs": [
    {
     "data": {
      "text/plain": [
       "array([[0.  , 0.  , 0.  , 0.  , 0.  ],\n",
       "       [0.  , 0.05, 0.1 , 0.05, 0.  ],\n",
       "       [0.  , 0.  , 0.  , 0.  , 0.  ]])"
      ]
     },
     "execution_count": 89,
     "metadata": {},
     "output_type": "execute_result"
    }
   ],
   "source": [
    "L = 1  # length of string\n",
    "N = 50 # number of chunks\n",
    "c = 1.0 # speed\n",
    "A = 0.1 # amplitude of \"pluck\"\n",
    "\n",
    "N = 5\n",
    "past = 0\n",
    "present = 1\n",
    "future = 2\n",
    "\n",
    "x = np.linspace(0,L,N)\n",
    "dx = x[1] - x[0] # what is dx?\n",
    "\n",
    "dt = 0.5*dx/c  # this ensures that dx/dt > c\n",
    "\n",
    "yp = np.where(x<L/2, x*2*A/L, (L-x)*2*A/L)\n",
    "\n",
    "y = np.zeros((3,N),float)\n",
    "\n",
    "y[present] = yp\n",
    "y[future] = np.zeros((1,N))\n",
    "\n",
    "y"
   ]
  },
  {
   "cell_type": "code",
   "execution_count": 90,
   "metadata": {},
   "outputs": [
    {
     "data": {
      "text/plain": [
       "[<matplotlib.lines.Line2D at 0x7fb59f6def70>]"
      ]
     },
     "execution_count": 90,
     "metadata": {},
     "output_type": "execute_result"
    },
    {
     "data": {
      "image/png": "[encoded data removed]",
      "text/plain": [
       "<Figure size 432x288 with 1 Axes>"
      ]
     },
     "metadata": {
      "needs_background": "light"
     },
     "output_type": "display_data"
    }
   ],
   "source": [
    "plt.plot(x,yp)"
   ]
  },
  {
   "cell_type": "code",
   "execution_count": 91,
   "metadata": {},
   "outputs": [
    {
     "data": {
      "text/plain": [
       "(-0.15, 0.15)"
      ]
     },
     "execution_count": 91,
     "metadata": {},
     "output_type": "execute_result"
    },
    {
     "data": {
      "image/png": "[encoded data removed]",
      "text/plain": [
       "<Figure size 432x288 with 1 Axes>"
      ]
     },
     "metadata": {
      "needs_background": "light"
     },
     "output_type": "display_data"
    }
   ],
   "source": [
    "\n",
    "fig1, ax1 = plt.subplots()\n",
    "ax1.plot(x,yp,'r-')\n",
    "ax1.grid()\n",
    "ax1.set_aspect('equal')\n",
    "plt.ylim(-.15,0.15)\n",
    "\n"
   ]
  },
  {
   "cell_type": "code",
   "execution_count": 92,
   "metadata": {},
   "outputs": [
    {
     "data": {
      "text/plain": [
       "array([[0.        , 0.        , 0.        , 0.        , 0.        ],\n",
       "       [0.        , 0.05      , 0.1       , 0.05      , 0.        ],\n",
       "       [0.        , 0.05      , 0.09921875, 0.05      , 0.        ]])"
      ]
     },
     "execution_count": 92,
     "metadata": {},
     "output_type": "execute_result"
    }
   ],
   "source": [
    "def doStep(y,isFirst=None, future=2, present=1, past=0):\n",
    "    for i in range(1,N-1):\n",
    "        if isFirst:\n",
    "            y[future, i] = (2*y[present, i] + dt**2*c**2*(y[present,i-1] - 2*y[present,i] + y[present,i+1]))/2.0\n",
    "        else:\n",
    "            y[future, i] = (2*y[present, i] - y[past, i] + dt**2*c**2*(y[present,i-1] - 2*y[present,i] + y[present,i+1]))/2.0\n",
    "\n",
    "    return y\n",
    "\n",
    "\n",
    "y = doStep(y, True)\n",
    "y\n"
   ]
  },
  {
   "cell_type": "code",
   "execution_count": 93,
   "metadata": {},
   "outputs": [
    {
     "data": {
      "text/plain": [
       "array([[0.        , 0.0249939 , 0.04844971, 0.0249939 , 0.        ],\n",
       "       [0.        , 0.05      , 0.1       , 0.05      , 0.        ],\n",
       "       [0.        , 0.05      , 0.09921875, 0.05      , 0.        ]])"
      ]
     },
     "execution_count": 93,
     "metadata": {},
     "output_type": "execute_result"
    }
   ],
   "source": [
    "past = 1\n",
    "present = 2\n",
    "future = 0\n",
    "\n",
    "y = doStep(y, False, future, present, past)\n",
    "y"
   ]
  },
  {
   "cell_type": "code",
   "execution_count": 94,
   "metadata": {},
   "outputs": [
    {
     "data": {
      "text/plain": [
       "array([[ 0.00000000e+00,  2.49938965e-02,  4.84497070e-02,\n",
       "         2.49938965e-02,  0.00000000e+00],\n",
       "       [ 0.00000000e+00, -1.81198120e-05, -1.52616501e-03,\n",
       "        -1.81198120e-05,  0.00000000e+00],\n",
       "       [ 0.00000000e+00,  5.00000000e-02,  9.92187500e-02,\n",
       "         5.00000000e-02,  0.00000000e+00]])"
      ]
     },
     "execution_count": 94,
     "metadata": {},
     "output_type": "execute_result"
    }
   ],
   "source": [
    "past = 2\n",
    "present = 0\n",
    "future = 1\n",
    "\n",
    "y = doStep(y, False, future, present, past)\n",
    "y\n"
   ]
  },
  {
   "cell_type": "code",
   "execution_count": 95,
   "metadata": {},
   "outputs": [
    {
     "name": "stdout",
     "output_type": "stream",
     "text": [
      "[ 0.00000000e+00 -1.81198120e-05 -1.52616501e-03 -1.81198120e-05\n",
      "  0.00000000e+00]\n",
      "[ 0.00000000e+00 -2.97598541e-05 -1.50260180e-03 -2.97598541e-05\n",
      "  0.00000000e+00]\n",
      "[ 0.00000000e+00 -3.19740269e-05 -7.16506143e-04 -3.19740269e-05\n",
      "  0.00000000e+00]\n",
      "[ 0.00000000e+00 -2.21922100e-05  4.54905728e-05 -2.21922100e-05\n",
      "  0.00000000e+00]\n",
      "[ 0.00000000e+00 -5.50304811e-06  4.02686101e-04 -5.50304811e-06\n",
      "  0.00000000e+00]\n",
      "[0.00000000e+00 8.82502715e-06 3.73562859e-04 8.82502715e-06\n",
      " 0.00000000e+00]\n",
      "[0.0000000e+00 1.4357120e-05 1.6652078e-04 1.4357120e-05 0.0000000e+00]\n",
      "[ 0.00000000e+00  1.10212200e-05 -2.26382067e-05  1.10212200e-05\n",
      "  0.00000000e+00]\n",
      "[ 0.00000000e+00  3.49359246e-06 -1.05372668e-04  3.49359246e-06\n",
      "  0.00000000e+00]\n",
      "[ 0.00000000e+00 -2.89482890e-06 -9.23525294e-05 -2.89482890e-06\n",
      "  0.00000000e+00]\n",
      "[ 0.00000000e+00 -5.31789756e-06 -3.82684188e-05 -5.31789756e-06\n",
      "  0.00000000e+00]\n",
      "[ 0.00000000e+00 -4.08636299e-06  8.42269781e-06 -4.08636299e-06\n",
      "  0.00000000e+00]\n",
      "[ 0.00000000e+00 -1.29776246e-06  2.73614531e-05 -1.29776246e-06\n",
      "  0.00000000e+00]\n",
      "[0.00000000e+00 9.79457927e-07 2.27023040e-05 9.79457927e-07\n",
      " 0.00000000e+00]\n",
      "[0.00000000e+00 1.79039688e-06 8.68215795e-06 1.79039688e-06\n",
      " 0.00000000e+00]\n",
      "[ 0.00000000e+00  1.34052232e-06 -2.77667781e-06  1.34052232e-06\n",
      "  0.00000000e+00]\n",
      "[ 0.00000000e+00  4.02685425e-07 -7.05342553e-06  4.02685425e-07\n",
      "  0.00000000e+00]\n",
      "[ 0.00000000e+00 -3.28972581e-07 -5.54858489e-06 -3.28972581e-07\n",
      "  0.00000000e+00]\n",
      "[ 0.00000000e+00 -5.68523417e-07 -1.94031569e-06 -5.68523417e-07\n",
      "  0.00000000e+00]\n",
      "[ 0.00000000e+00 -4.10312664e-07  8.55411016e-07 -4.10312664e-07\n",
      "  0.00000000e+00]\n",
      "[ 0.00000000e+00 -1.12956922e-07  1.80579193e-06 -1.12956922e-07\n",
      "  0.00000000e+00]\n",
      "[0.00000000e+00 1.08072112e-07 1.34810597e-06 1.08072112e-07\n",
      " 0.00000000e+00]\n",
      "[0.00000000e+00 1.73394024e-07 4.25834475e-07 1.73394024e-07\n",
      " 0.00000000e+00]\n",
      "[ 0.00000000e+00  1.19975518e-07 -2.52162890e-07  1.19975518e-07\n",
      "  0.00000000e+00]\n",
      "[ 0.00000000e+00  2.94338662e-08 -4.59265465e-07  2.94338662e-08\n",
      "  0.00000000e+00]\n",
      "[ 0.00000000e+00 -3.46018085e-08 -3.25548093e-07 -3.46018085e-08\n",
      "  0.00000000e+00]\n",
      "[ 0.00000000e+00 -5.13214328e-08 -9.13693247e-08 -5.13214328e-08\n",
      "  0.00000000e+00]\n",
      "[ 0.00000000e+00 -3.39324540e-08  7.20304702e-08 -3.39324540e-08\n",
      "  0.00000000e+00]\n",
      "[ 0.00000000e+00 -7.17880497e-09  1.16059462e-07 -7.17880497e-09\n",
      "  0.00000000e+00]\n",
      "[0.00000000e+00 1.08063054e-08 7.81186288e-08 1.08063054e-08\n",
      " 0.00000000e+00]\n",
      "[0.00000000e+00 1.48371612e-08 1.90371429e-08 1.48371612e-08\n",
      " 0.00000000e+00]\n",
      "[ 0.00000000e+00  9.35090549e-09 -2.00877963e-08  9.35090549e-09\n",
      "  0.00000000e+00]\n",
      "[ 0.0000000e+00  1.6292811e-09 -2.9146388e-08  1.6292811e-09\n",
      "  0.0000000e+00]\n",
      "[ 0.00000000e+00 -3.29933531e-09 -1.86216200e-08 -3.29933531e-09\n",
      "  0.00000000e+00]\n",
      "[ 0.00000000e+00 -4.20790516e-09 -3.80901533e-09 -4.20790516e-09\n",
      "  0.00000000e+00]\n",
      "[ 0.00000000e+00 -2.52224691e-09  5.49556203e-09 -2.52224691e-09\n",
      "  0.00000000e+00]\n",
      "[ 0.00000000e+00 -3.35950150e-10  7.27479143e-09 -3.35950150e-10\n",
      "  0.00000000e+00]\n",
      "[0.00000000e+00 9.87256836e-10 4.40809258e-09 9.87256836e-10\n",
      " 0.00000000e+00]\n",
      "[0.00000000e+00 1.17424425e-09 7.17246305e-10 1.17424425e-09\n",
      " 0.00000000e+00]\n",
      "[ 0.00000000e+00  6.67871749e-10 -1.47965939e-09  6.67871749e-10\n",
      "  0.00000000e+00]\n",
      "[ 0.00000000e+00  5.87542905e-11 -1.80472737e-09  5.87542905e-11\n",
      "  0.00000000e+00]\n",
      "[ 0.00000000e+00 -2.90199052e-10 -1.03578077e-09 -2.90199052e-10\n",
      "  0.00000000e+00]\n",
      "[ 0.00000000e+00 -3.23133875e-10 -1.21767374e-10 -3.23133875e-10\n",
      "  0.00000000e+00]\n",
      "[ 0.00000000e+00 -1.73936689e-10  3.92976661e-10 -1.73936689e-10\n",
      "  0.00000000e+00]\n",
      "[ 0.00000000e+00 -6.58186105e-12  4.45002327e-10 -6.58186105e-12\n",
      "  0.00000000e+00]\n",
      "[0.00000000e+00 8.39659059e-11 2.41457993e-10 8.39659059e-11\n",
      " 0.00000000e+00]\n",
      "[0.00000000e+00 8.78312597e-11 1.64960161e-11 8.78312597e-11\n",
      " 0.00000000e+00]\n",
      "[ 0.00000000e+00  4.46048184e-11 -1.03118367e-10  4.46048184e-11\n",
      "  0.00000000e+00]\n",
      "[ 0.00000000e+00 -8.13373931e-13 -1.09058201e-10 -8.13373931e-13\n",
      "  0.00000000e+00]\n",
      "[ 0.00000000e+00 -2.39550914e-11 -5.58076916e-11 -2.39550914e-11\n",
      "  0.00000000e+00]\n",
      "[ 0.00000000e+00 -2.36101037e-11 -7.80894344e-13 -2.36101037e-11\n",
      "  0.00000000e+00]\n",
      "[ 0.00000000e+00 -1.12697509e-11  2.67662450e-11 -1.12697509e-11\n",
      "  0.00000000e+00]\n",
      "[0.00000000e+00 9.20502119e-13 2.65623798e-11 9.20502119e-13\n",
      " 0.00000000e+00]\n",
      "[0.00000000e+00 6.74851330e-12 1.27786029e-11 6.74851330e-12\n",
      " 0.00000000e+00]\n",
      "[ 0.00000000e+00  6.28264956e-12 -5.96807121e-13  6.28264956e-12\n",
      "  0.00000000e+00]\n",
      "[ 0.00000000e+00  2.80556395e-12 -6.87861707e-12  2.80556395e-12\n",
      "  0.00000000e+00]\n",
      "[ 0.00000000e+00 -4.33336960e-13 -6.42889818e-12 -4.33336960e-13\n",
      "  0.00000000e+00]\n",
      "[ 0.00000000e+00 -1.87957381e-12 -2.89590900e-12 -1.87957381e-12\n",
      "  0.00000000e+00]\n",
      "[ 0.00000000e+00 -1.65616128e-12  3.34420326e-13 -1.65616128e-12\n",
      "  0.00000000e+00]\n",
      "[ 0.00000000e+00 -6.87884196e-13  1.75127199e-12 -6.87884196e-13\n",
      "  0.00000000e+00]\n",
      "[0.00000000e+00 1.64626448e-13 1.54595001e-12 1.64626448e-13\n",
      " 0.00000000e+00]\n",
      "[0.00000000e+00 5.18073992e-13 6.48730836e-13 5.18073992e-13\n",
      " 0.00000000e+00]\n",
      "[ 0.00000000e+00  4.32734072e-13 -1.26285683e-13  4.32734072e-13\n",
      "  0.00000000e+00]\n",
      "[ 0.00000000e+00  1.65948999e-13 -4.41916417e-13  1.65948999e-13\n",
      "  0.00000000e+00]\n",
      "[ 0.00000000e+00 -5.64634620e-14 -3.69275678e-13 -5.64634620e-14\n",
      "  0.00000000e+00]\n",
      "[ 0.00000000e+00 -1.41440686e-13 -1.43429779e-13 -1.41440686e-13\n",
      "  0.00000000e+00]\n",
      "[ 0.00000000e+00 -1.12119490e-13  4.12391398e-14 -1.12119490e-13\n",
      "  0.00000000e+00]\n",
      "[ 0.00000000e+00 -3.93250987e-14  1.10557801e-13 -3.93250987e-14\n",
      "  0.00000000e+00]\n",
      "[0.00000000e+00 1.82128336e-14 8.75963105e-14 1.82128336e-14\n",
      " 0.00000000e+00]\n",
      "[0.00000000e+00 3.82751536e-14 3.12332933e-14 3.82751536e-14\n",
      " 0.00000000e+00]\n",
      "[ 0.00000000e+00  2.88146976e-14 -1.24548329e-14  2.88146976e-14\n",
      "  0.00000000e+00]\n",
      "[ 0.00000000e+00  9.12958779e-15 -2.74266431e-14  9.12958779e-15\n",
      "  0.00000000e+00]\n",
      "[ 0.00000000e+00 -5.63468147e-15 -2.06280356e-14 -5.63468147e-15\n",
      "  0.00000000e+00]\n",
      "[ 0.00000000e+00 -1.02725900e-14 -6.68044286e-15 -1.02725900e-14\n",
      "  0.00000000e+00]\n",
      "[ 0.00000000e+00 -7.34693100e-15  3.57744763e-15 -7.34693100e-15\n",
      "  0.00000000e+00]\n",
      "[ 0.00000000e+00 -2.06789140e-15  6.74697564e-15 -2.06789140e-15\n",
      "  0.00000000e+00]\n",
      "[0.00000000e+00 1.69059565e-15 4.82051953e-15 1.69059565e-15\n",
      " 0.00000000e+00]\n",
      "[0.00000000e+00 2.73578610e-15 1.39812665e-15 2.73578610e-15\n",
      " 0.00000000e+00]\n",
      "[ 0.00000000e+00  1.85866448e-15 -9.91232187e-16  1.85866448e-15\n",
      "  0.00000000e+00]\n",
      "[ 0.00000000e+00  4.53985798e-16 -1.64576588e-15  4.53985798e-16\n",
      "  0.00000000e+00]\n",
      "[ 0.00000000e+00 -4.95297518e-16 -1.11734116e-15 -4.95297518e-16\n",
      "  0.00000000e+00]\n",
      "[ 0.00000000e+00 -7.23280621e-16 -2.84738793e-16 -7.23280621e-16\n",
      "  0.00000000e+00]\n",
      "[ 0.00000000e+00 -4.66555124e-16  2.67079573e-16 -4.66555124e-16\n",
      "  0.00000000e+00]\n",
      "[ 0.00000000e+00 -9.55383306e-17  3.97985927e-16 -9.55383306e-17\n",
      "  0.00000000e+00]\n",
      "[0.00000000e+00 1.42341283e-16 2.56734824e-16 1.42341283e-16\n",
      " 0.00000000e+00]\n",
      "[0.00000000e+00 1.89892107e-16 5.59544615e-17 1.89892107e-16\n",
      " 0.00000000e+00]\n",
      "[ 0.00000000e+00  1.16191545e-16 -7.03201748e-17  1.16191545e-16\n",
      "  0.00000000e+00]\n",
      "[ 0.00000000e+00  1.88806226e-17 -9.53831599e-17  1.88806226e-17\n",
      "  0.00000000e+00]\n",
      "[ 0.00000000e+00 -4.02553406e-17 -5.84377009e-17 -4.02553406e-17\n",
      "  0.00000000e+00]\n",
      "[ 0.00000000e+00 -4.95232068e-17 -1.04620216e-17 -4.95232068e-17\n",
      "  0.00000000e+00]\n",
      "[ 0.00000000e+00 -2.87034709e-17  1.81464979e-17 -2.87034709e-17\n",
      "  0.00000000e+00]\n",
      "[ 0.00000000e+00 -3.35160626e-18  2.26454779e-17 -3.35160626e-18\n",
      "  0.00000000e+00]\n",
      "[0.00000000e+00 1.12294158e-17 1.31660245e-17 1.12294158e-17\n",
      " 0.00000000e+00]\n",
      "[0.00000000e+00 1.28326189e-17 1.81302607e-18 1.28326189e-17\n",
      " 0.00000000e+00]\n",
      "[ 0.00000000e+00  7.03156558e-18 -4.59780506e-18  7.03156558e-18\n",
      "  0.00000000e+00]\n",
      "[ 0.00000000e+00  4.69467569e-19 -5.32260917e-18  4.69467569e-19\n",
      "  0.00000000e+00]\n",
      "[ 0.00000000e+00 -3.09523354e-18 -2.93320545e-18 -3.09523354e-18\n",
      "  0.00000000e+00]\n",
      "[ 0.00000000e+00 -3.30451997e-18 -2.74432548e-19 -3.30451997e-18\n",
      "  0.00000000e+00]\n",
      "[ 0.00000000e+00 -1.70741408e-18  1.14482506e-18 -1.70741408e-18\n",
      "  0.00000000e+00]\n",
      "[ 0.0000000e+00 -1.9531803e-20  1.2374751e-18 -1.9531803e-20\n",
      "  0.0000000e+00]\n"
     ]
    }
   ],
   "source": [
    "for i in range(100):\n",
    "    y = doStep(y, i==0, (i+2)%3, (i+1)%3, i%3)\n",
    "    print(y[(i+1)%3])\n"
   ]
  },
  {
   "cell_type": "code",
   "execution_count": null,
   "metadata": {},
   "outputs": [],
   "source": []
  }
 ],
 "metadata": {
  "kernelspec": {
   "display_name": "Python 3",
   "language": "python",
   "name": "python3"
  },
  "language_info": {
   "codemirror_mode": {
    "name": "ipython",
    "version": 3
   },
   "file_extension": ".py",
   "mimetype": "text/x-python",
   "name": "python",
   "nbconvert_exporter": "python",
   "pygments_lexer": "ipython3",
   "version": "3.8.3"
  }
 },
 "nbformat": 4,
 "nbformat_minor": 4
}
