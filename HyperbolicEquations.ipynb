{
 "cells": [
  {
   "cell_type": "markdown",
   "metadata": {},
   "source": [
    "# Hyperbolic Equations\n",
    "\n",
    "A typical hyperbolic equation is the wave equation. A typcical hyperbolic equation might look like this:\n",
    "\n",
    "$$ c^2 \\frac{\\partial^2 y}{\\partial x^2} = \\frac{\\partial ^2 y}{\\partial t^2} $$\n",
    "\n",
    "Where $c$ is the speed at which disturbances in $y$ propagate. Note the units! Suppose $y$ has units of distance, and $t$ has units of time. Since $c$ is a *speed*, it would have units of distance/time. Now the partial derivative on the left hand side (LHS) has units of recirpocal distance. The partial dirivative on the right has units of distance over time squared. Multiplying the LHS by $c^2$ sorts out the units so they're consistent."
   ]
  },
  {
   "cell_type": "code",
   "execution_count": null,
   "metadata": {},
   "outputs": [],
   "source": [
    "import numpy as np\n",
    "import matplotlib.pyplot as plt"
   ]
  },
  {
   "cell_type": "markdown",
   "metadata": {},
   "source": [
    "## String Waves\n",
    "\n",
    "A simple example is a wave on a string. In this case a string is tied between two points. Suppose we give it an initial \"pluck\" so it has a shape something like this:"
   ]
  },
  {
   "cell_type": "code",
   "execution_count": null,
   "metadata": {},
   "outputs": [],
   "source": [
    "L = 1  # length of string\n",
    "N = 50 # number of chunks\n",
    "c = 1.0 # speed\n",
    "A = 0.1 # amplitude of \"pluck\"\n",
    "\n",
    "x = np.linspace(0,L,N)\n",
    "\n",
    "dx = x[1] - x[0] # what is dx?\n",
    "y = np.where(x<L/2, x*2*A/L, (L-x)*2*A/L)\n",
    "\n",
    "fig1, ax1 = plt.subplots()\n",
    "ax1.plot(x,y,'r-')\n",
    "ax1.grid()\n",
    "ax1.set_aspect('equal')\n",
    "plt.ylim(-.15,0.15)\n"
   ]
  },
  {
   "cell_type": "markdown",
   "metadata": {},
   "source": [
    "The goal of this project is to simulate the time evolution of the plucked string."
   ]
  },
  {
   "cell_type": "code",
   "execution_count": null,
   "metadata": {},
   "outputs": [],
   "source": []
  }
 ],
 "metadata": {
  "kernelspec": {
   "display_name": "Python 3",
   "language": "python",
   "name": "python3"
  },
  "language_info": {
   "codemirror_mode": {
    "name": "ipython",
    "version": 3
   },
   "file_extension": ".py",
   "mimetype": "text/x-python",
   "name": "python",
   "nbconvert_exporter": "python",
   "pygments_lexer": "ipython3",
   "version": "3.8.3"
  }
 },
 "nbformat": 4,
 "nbformat_minor": 4
}
